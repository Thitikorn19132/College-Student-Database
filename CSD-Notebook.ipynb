{
    "metadata": {
        "kernelspec": {
            "name": "SQL",
            "display_name": "SQL",
            "language": "sql"
        },
        "language_info": {
            "name": "sql",
            "version": ""
        },
        "extensions": {
            "azuredatastudio": {
                "version": 1,
                "views": []
            }
        }
    },
    "nbformat_minor": 2,
    "nbformat": 4,
    "cells": [
        {
            "cell_type": "markdown",
            "source": [
                "# Notebook สำหรับแสดงข้อมูลในฐานข้อมูล"
            ],
            "metadata": {
                "azdata_cell_guid": "bb1831bd-fc4b-49eb-9007-af944db51219"
            },
            "attachments": {}
        },
        {
            "cell_type": "markdown",
            "source": [
                "## แสดงข้อมูนักเรียน นักศึกษาทั้งหมด"
            ],
            "metadata": {
                "azdata_cell_guid": "f2e9173b-1744-4a0c-939d-4bcfe8206d9a"
            },
            "attachments": {}
        },
        {
            "cell_type": "code",
            "source": [
                "USE [college_student_database]\r\n",
                "SELECT * FROM [Student]\r\n",
                "GO"
            ],
            "metadata": {
                "azdata_cell_guid": "d8ae8ad9-fc57-49b3-b930-31baa527e03a"
            },
            "outputs": [],
            "execution_count": null
        },
        {
            "cell_type": "markdown",
            "source": [
                "##   \n",
                "\n",
                "## แสดงข้อมูลผู้ปกครองทั้งหมด"
            ],
            "metadata": {
                "azdata_cell_guid": "69a0baf9-3050-475f-b42a-2730af520a41"
            },
            "attachments": {}
        },
        {
            "cell_type": "code",
            "source": [
                "USE [college_student_database]\r\n",
                "SELECT * FROM [Parent]\r\n",
                "GO"
            ],
            "metadata": {
                "azdata_cell_guid": "7601d749-f3cc-4181-aa15-8cd563c079e6",
                "tags": []
            },
            "outputs": [],
            "execution_count": null
        },
        {
            "cell_type": "markdown",
            "source": [
                "##   \n",
                "\n",
                "## แสดงข้อมูลครูที่ปรึกษา"
            ],
            "metadata": {
                "azdata_cell_guid": "1ff50e85-da68-40de-a4dc-36f175ba3c0e"
            },
            "attachments": {}
        },
        {
            "cell_type": "code",
            "source": [
                "USE [college_student_database]\r\n",
                "SELECT * FROM [Teacher]\r\n",
                "GO"
            ],
            "metadata": {
                "azdata_cell_guid": "eeaf0d11-fffc-4c27-aa11-17bb36f5ce61"
            },
            "outputs": [],
            "execution_count": null
        },
        {
            "cell_type": "markdown",
            "source": [
                "##   \n",
                "\n",
                "## แสดงข้อมูลนักเรียน กับผู้ปกครอง"
            ],
            "metadata": {
                "azdata_cell_guid": "0213f5ab-c9b7-4444-b327-82f642b1ad90"
            },
            "attachments": {}
        },
        {
            "cell_type": "code",
            "source": [
                "USE [college_student_database]\r\n",
                "SELECT [Stu_FristName],[Stu_LastName],[Par_FristName],[Par_LastName] FROM [Student],[Parent]\r\n",
                "GO"
            ],
            "metadata": {
                "azdata_cell_guid": "e729af41-e5d4-49a9-a3f0-06b271d113f4",
                "tags": []
            },
            "outputs": [],
            "execution_count": null
        },
        {
            "cell_type": "markdown",
            "source": [
                "##   \n",
                "\n",
                "## แสดงข้อมูลทางการเงินของนักเรียน นักศึกษา"
            ],
            "metadata": {
                "azdata_cell_guid": "2dacab69-021e-4ce1-b5ff-9d0932abb20a"
            },
            "attachments": {}
        },
        {
            "cell_type": "code",
            "source": [
                "USE [college_student_database]\r\n",
                "SELECT [Fin_Date],[Stu_FristName],[Stu_LastName],[Fin_Payment],[Fin_Detail] FROM [Finance],[Student]\r\n",
                "GO"
            ],
            "metadata": {
                "azdata_cell_guid": "a6685c41-72a0-4115-9182-451f89c39b1a"
            },
            "outputs": [],
            "execution_count": null
        }
    ]
}